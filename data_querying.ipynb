{
 "cells": [
  {
   "cell_type": "code",
   "execution_count": 8,
   "metadata": {
    "collapsed": true
   },
   "outputs": [],
   "source": [
    "import json\n",
    "import os.path\n",
    "\n",
    "import pandas as pd"
   ]
  },
  {
   "cell_type": "code",
   "execution_count": 9,
   "outputs": [
    {
     "data": {
      "text/plain": "             matchId           ball       batterId   nonStrikerId  \\\ncount  149424.000000  149424.000000  149424.000000  149424.000000   \nmean     8249.638385       3.490363     714.269140     716.450115   \nstd      9058.740465       1.708286    1483.955077    1509.083150   \nmin         2.000000       1.000000       1.000000       1.000000   \n25%      2429.000000       2.000000     100.000000     100.000000   \n50%      4087.000000       3.000000     182.000000     179.000000   \n75%     11316.000000       5.000000     506.000000     503.000000   \nmax     32242.000000       7.000000   19352.000000   19352.000000   \n\n            bowlerId     ballSpeed           runs     batterRuns  \\\ncount  149424.000000  149424.00000  149424.000000  149424.000000   \nmean     1073.608570      30.36818       1.320698       1.258419   \nstd      1961.000075       9.80143       1.609856       1.622889   \nmin         7.000000      -1.00000       0.000000       0.000000   \n25%       104.000000      25.36400       0.000000       0.000000   \n50%       217.000000      33.76300       1.000000       1.000000   \n75%      1118.000000      37.49200       1.000000       1.000000   \nmax     19352.000000      43.39600       7.000000       6.000000   \n\n          bowlerRuns         pitchX         pitchY        stumpsX  \\\ncount  149424.000000  144371.000000  144371.000000  144371.000000   \nmean        1.296940      -0.145737       6.296524      -0.052885   \nstd         1.614204       0.803908       4.010505       0.997442   \nmin         0.000000     -24.849000     -88.390000     -98.580000   \n25%         0.000000      -0.376000       4.655000      -0.298000   \n50%         1.000000      -0.180000       6.301000      -0.058000   \n75%         1.000000       0.055000       8.100000       0.184000   \nmax         7.000000     242.012000     897.783000     233.290000   \n\n             stumpsY         fieldX         fieldY  \ncount  144371.000000  146018.000000  146018.000000  \nmean        0.700522      39.449698      34.352087  \nstd         9.539914      28.865914      25.427520  \nmin     -3318.995000       0.000000       0.000000  \n25%         0.568000      10.000000      10.000000  \n50%         0.713000      38.000000      34.000000  \n75%         0.878000      64.000000      51.000000  \nmax        12.253000      96.000000      96.000000  ",
      "text/html": "<div>\n<style scoped>\n    .dataframe tbody tr th:only-of-type {\n        vertical-align: middle;\n    }\n\n    .dataframe tbody tr th {\n        vertical-align: top;\n    }\n\n    .dataframe thead th {\n        text-align: right;\n    }\n</style>\n<table border=\"1\" class=\"dataframe\">\n  <thead>\n    <tr style=\"text-align: right;\">\n      <th></th>\n      <th>matchId</th>\n      <th>ball</th>\n      <th>batterId</th>\n      <th>nonStrikerId</th>\n      <th>bowlerId</th>\n      <th>ballSpeed</th>\n      <th>runs</th>\n      <th>batterRuns</th>\n      <th>bowlerRuns</th>\n      <th>pitchX</th>\n      <th>pitchY</th>\n      <th>stumpsX</th>\n      <th>stumpsY</th>\n      <th>fieldX</th>\n      <th>fieldY</th>\n    </tr>\n  </thead>\n  <tbody>\n    <tr>\n      <th>count</th>\n      <td>149424.000000</td>\n      <td>149424.000000</td>\n      <td>149424.000000</td>\n      <td>149424.000000</td>\n      <td>149424.000000</td>\n      <td>149424.00000</td>\n      <td>149424.000000</td>\n      <td>149424.000000</td>\n      <td>149424.000000</td>\n      <td>144371.000000</td>\n      <td>144371.000000</td>\n      <td>144371.000000</td>\n      <td>144371.000000</td>\n      <td>146018.000000</td>\n      <td>146018.000000</td>\n    </tr>\n    <tr>\n      <th>mean</th>\n      <td>8249.638385</td>\n      <td>3.490363</td>\n      <td>714.269140</td>\n      <td>716.450115</td>\n      <td>1073.608570</td>\n      <td>30.36818</td>\n      <td>1.320698</td>\n      <td>1.258419</td>\n      <td>1.296940</td>\n      <td>-0.145737</td>\n      <td>6.296524</td>\n      <td>-0.052885</td>\n      <td>0.700522</td>\n      <td>39.449698</td>\n      <td>34.352087</td>\n    </tr>\n    <tr>\n      <th>std</th>\n      <td>9058.740465</td>\n      <td>1.708286</td>\n      <td>1483.955077</td>\n      <td>1509.083150</td>\n      <td>1961.000075</td>\n      <td>9.80143</td>\n      <td>1.609856</td>\n      <td>1.622889</td>\n      <td>1.614204</td>\n      <td>0.803908</td>\n      <td>4.010505</td>\n      <td>0.997442</td>\n      <td>9.539914</td>\n      <td>28.865914</td>\n      <td>25.427520</td>\n    </tr>\n    <tr>\n      <th>min</th>\n      <td>2.000000</td>\n      <td>1.000000</td>\n      <td>1.000000</td>\n      <td>1.000000</td>\n      <td>7.000000</td>\n      <td>-1.00000</td>\n      <td>0.000000</td>\n      <td>0.000000</td>\n      <td>0.000000</td>\n      <td>-24.849000</td>\n      <td>-88.390000</td>\n      <td>-98.580000</td>\n      <td>-3318.995000</td>\n      <td>0.000000</td>\n      <td>0.000000</td>\n    </tr>\n    <tr>\n      <th>25%</th>\n      <td>2429.000000</td>\n      <td>2.000000</td>\n      <td>100.000000</td>\n      <td>100.000000</td>\n      <td>104.000000</td>\n      <td>25.36400</td>\n      <td>0.000000</td>\n      <td>0.000000</td>\n      <td>0.000000</td>\n      <td>-0.376000</td>\n      <td>4.655000</td>\n      <td>-0.298000</td>\n      <td>0.568000</td>\n      <td>10.000000</td>\n      <td>10.000000</td>\n    </tr>\n    <tr>\n      <th>50%</th>\n      <td>4087.000000</td>\n      <td>3.000000</td>\n      <td>182.000000</td>\n      <td>179.000000</td>\n      <td>217.000000</td>\n      <td>33.76300</td>\n      <td>1.000000</td>\n      <td>1.000000</td>\n      <td>1.000000</td>\n      <td>-0.180000</td>\n      <td>6.301000</td>\n      <td>-0.058000</td>\n      <td>0.713000</td>\n      <td>38.000000</td>\n      <td>34.000000</td>\n    </tr>\n    <tr>\n      <th>75%</th>\n      <td>11316.000000</td>\n      <td>5.000000</td>\n      <td>506.000000</td>\n      <td>503.000000</td>\n      <td>1118.000000</td>\n      <td>37.49200</td>\n      <td>1.000000</td>\n      <td>1.000000</td>\n      <td>1.000000</td>\n      <td>0.055000</td>\n      <td>8.100000</td>\n      <td>0.184000</td>\n      <td>0.878000</td>\n      <td>64.000000</td>\n      <td>51.000000</td>\n    </tr>\n    <tr>\n      <th>max</th>\n      <td>32242.000000</td>\n      <td>7.000000</td>\n      <td>19352.000000</td>\n      <td>19352.000000</td>\n      <td>19352.000000</td>\n      <td>43.39600</td>\n      <td>7.000000</td>\n      <td>6.000000</td>\n      <td>7.000000</td>\n      <td>242.012000</td>\n      <td>897.783000</td>\n      <td>233.290000</td>\n      <td>12.253000</td>\n      <td>96.000000</td>\n      <td>96.000000</td>\n    </tr>\n  </tbody>\n</table>\n</div>"
     },
     "execution_count": 9,
     "metadata": {},
     "output_type": "execute_result"
    }
   ],
   "source": [
    "def load_csv_data_mipl():\n",
    "    csv_path = os.path.join(\"HawkeyeStats-main\", \"mensIPLHawkeyeStats.csv\")\n",
    "    return pd.read_csv(csv_path)\n",
    "\n",
    "\n",
    "mipl_csv = load_csv_data_mipl()\n",
    "mipl_csv.head()\n",
    "mipl_csv.describe()"
   ],
   "metadata": {
    "collapsed": false
   }
  },
  {
   "cell_type": "code",
   "execution_count": 13,
   "outputs": [
    {
     "data": {
      "text/plain": "       batsman_name      batsman_id      bowler_name       bowler_id  \\\ncount         17911           17911            17911           17911   \nunique          179             180              128             130   \ntop     Jos Buttler  12899813945843  PRASIDH KRISHNA  13170326524322   \nfreq            596             596              432             432   \n\n       delivery_type shot_attacked shot_played shot_type_additional  \ncount          17911         17911       17911                17911  \nunique             3             3           3                    3  \ntop             Seam      Attacked    Attacked             Attacked  \nfreq           11984         14724       14724                14724  ",
      "text/html": "<div>\n<style scoped>\n    .dataframe tbody tr th:only-of-type {\n        vertical-align: middle;\n    }\n\n    .dataframe tbody tr th {\n        vertical-align: top;\n    }\n\n    .dataframe thead th {\n        text-align: right;\n    }\n</style>\n<table border=\"1\" class=\"dataframe\">\n  <thead>\n    <tr style=\"text-align: right;\">\n      <th></th>\n      <th>batsman_name</th>\n      <th>batsman_id</th>\n      <th>bowler_name</th>\n      <th>bowler_id</th>\n      <th>delivery_type</th>\n      <th>shot_attacked</th>\n      <th>shot_played</th>\n      <th>shot_type_additional</th>\n    </tr>\n  </thead>\n  <tbody>\n    <tr>\n      <th>count</th>\n      <td>17911</td>\n      <td>17911</td>\n      <td>17911</td>\n      <td>17911</td>\n      <td>17911</td>\n      <td>17911</td>\n      <td>17911</td>\n      <td>17911</td>\n    </tr>\n    <tr>\n      <th>unique</th>\n      <td>179</td>\n      <td>180</td>\n      <td>128</td>\n      <td>130</td>\n      <td>3</td>\n      <td>3</td>\n      <td>3</td>\n      <td>3</td>\n    </tr>\n    <tr>\n      <th>top</th>\n      <td>Jos Buttler</td>\n      <td>12899813945843</td>\n      <td>PRASIDH KRISHNA</td>\n      <td>13170326524322</td>\n      <td>Seam</td>\n      <td>Attacked</td>\n      <td>Attacked</td>\n      <td>Attacked</td>\n    </tr>\n    <tr>\n      <th>freq</th>\n      <td>596</td>\n      <td>596</td>\n      <td>432</td>\n      <td>432</td>\n      <td>11984</td>\n      <td>14724</td>\n      <td>14724</td>\n      <td>14724</td>\n    </tr>\n  </tbody>\n</table>\n</div>"
     },
     "execution_count": 13,
     "metadata": {},
     "output_type": "execute_result"
    }
   ],
   "source": [
    "def get_json_directory_names():\n",
    "    path_to_json = 'ipl_2022_data/data'\n",
    "    return [pos_json for pos_json in os.listdir(path_to_json) if pos_json.endswith('.json')]\n",
    "\n",
    "\n",
    "def load_json_data_mipl():\n",
    "    mipl_data = pd.DataFrame(columns=['batsman_name', \"batsman_id\", \"bowler_name\", \"bowler_id\", \"delivery_type\",\n",
    "                                      \"shot_attacked\", \"shot_played\", \"shot_type_additional\"])\n",
    "    json_files = get_json_directory_names()\n",
    "    #\n",
    "    # \"shotAttacked\": \"Attacked\",\n",
    "    #             \"shotPlayed\": \"Played\",\n",
    "    #             \"shotTypeAdditional\": \"None\"\n",
    "\n",
    "    for index, js in enumerate(json_files):\n",
    "        with open(os.path.join('ipl_2022_data/data', js)) as json_file:\n",
    "            json_text = json.load(json_file)\n",
    "            batsman_name = json_text['match']['battingTeam']['batsman']['name']\n",
    "            batsman_id = json_text['match']['battingTeam']['batsman']['id']\n",
    "            bowler_name = json_text['match']['bowlingTeam']['bowler']['name']\n",
    "            bowler_id = json_text['match']['bowlingTeam']['bowler']['id']\n",
    "            delivery_type = json_text['match']['delivery']['deliveryType']\n",
    "            shot_attacked = json_text['match']['delivery']['shotInformation']['shotAttacked']\n",
    "            shot_played = json_text['match']['delivery']['shotInformation']['shotAttacked']\n",
    "            shot_type_additional = json_text['match']['delivery']['shotInformation']['shotAttacked']\n",
    "            mipl_data.loc[index] = [batsman_name, batsman_id, bowler_name, bowler_id, delivery_type,\n",
    "                                    shot_attacked, shot_played, shot_type_additional]\n",
    "\n",
    "    return mipl_data\n",
    "\n",
    "\n",
    "mipl_json = load_json_data_mipl()\n",
    "mipl_json.describe()"
   ],
   "metadata": {
    "collapsed": false
   }
  },
  {
   "cell_type": "code",
   "execution_count": 15,
   "outputs": [
    {
     "data": {
      "text/plain": "batsman_name     bowler_name      \nABHIJEET TOMAR   JASON HOLDER         6\n                 MOHSIN KHAN          2\nABHINAV MANOHAR  AVESH KHAN           4\n                 Andre Russell        1\n                 BHUVNESHWAR KUMAR    6\ndtype: int64"
     },
     "execution_count": 15,
     "metadata": {},
     "output_type": "execute_result"
    }
   ],
   "source": [
    "batsman_bowler = mipl_json.pivot_table(columns=['batsman_name', \"bowler_name\"], aggfunc='size')\n",
    "batsman_bowler.head()"
   ],
   "metadata": {
    "collapsed": false
   }
  },
  {
   "cell_type": "code",
   "execution_count": 16,
   "outputs": [
    {
     "data": {
      "text/plain": "batsman_name     delivery_type\nABHIJEET TOMAR   Seam               8\nABHINAV MANOHAR  Seam              52\n                 Spin              27\nABHISHEK SHARMA  Seam             224\n                 Spin             105\ndtype: int64"
     },
     "execution_count": 16,
     "metadata": {},
     "output_type": "execute_result"
    }
   ],
   "source": [
    "batsman_ball_type = mipl_json.pivot_table(columns=['batsman_name', \"delivery_type\"], aggfunc='size')\n",
    "batsman_ball_type.head()"
   ],
   "metadata": {
    "collapsed": false
   }
  },
  {
   "cell_type": "code",
   "execution_count": 17,
   "outputs": [
    {
     "data": {
      "text/plain": "batsman_name     shot_played\nABHIJEET TOMAR   Attacked        4\n                 Defended        3\n                 None            1\nABHINAV MANOHAR  Attacked       63\n                 Defended       16\ndtype: int64"
     },
     "execution_count": 17,
     "metadata": {},
     "output_type": "execute_result"
    }
   ],
   "source": [
    "batsman_shot_played = mipl_json.pivot_table(columns=['batsman_name', \"shot_played\"], aggfunc='size')\n",
    "batsman_shot_played.head()"
   ],
   "metadata": {
    "collapsed": false
   }
  },
  {
   "cell_type": "code",
   "execution_count": null,
   "outputs": [],
   "source": [],
   "metadata": {
    "collapsed": false
   }
  }
 ],
 "metadata": {
  "kernelspec": {
   "display_name": "Python 3",
   "language": "python",
   "name": "python3"
  },
  "language_info": {
   "codemirror_mode": {
    "name": "ipython",
    "version": 2
   },
   "file_extension": ".py",
   "mimetype": "text/x-python",
   "name": "python",
   "nbconvert_exporter": "python",
   "pygments_lexer": "ipython2",
   "version": "2.7.6"
  }
 },
 "nbformat": 4,
 "nbformat_minor": 0
}
